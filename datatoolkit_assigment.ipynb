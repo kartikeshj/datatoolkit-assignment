{
  "nbformat": 4,
  "nbformat_minor": 0,
  "metadata": {
    "colab": {
      "provenance": []
    },
    "kernelspec": {
      "name": "python3",
      "display_name": "Python 3"
    },
    "language_info": {
      "name": "python"
    }
  },
  "cells": [
    {
      "cell_type": "code",
      "execution_count": null,
      "metadata": {
        "id": "nIUmla6CVJSh"
      },
      "outputs": [],
      "source": [
        "1.What is NumPy, and why is it widely used in Python ?\n",
        "\n",
        " numpy provide powerful array object and tools for working with these array.\n",
        " Also numpy is pythone library which generally provide functione realated to mathmaticle operation ,\n",
        " It includes a suite of mathematical functions for operations like linear algebra, Fourier transforms, and statistical analysis.\n",
        "\n",
        "\n",
        "IT is mainly used for\n",
        "- Speed: NumPy arrays are stored in contiguous memory blocks, enabling fast access and manipulation. This makes them up to 50x faster than Python lists.\n",
        "- Vectorization: You can apply operations to entire arrays without writing explicit loops. This is both cleaner and faster.\n",
        "- Broadcasting: NumPy can perform operations on arrays of different shapes by automatically expanding dimensions—no need to manually reshape data.\n",
        "- Integration: It’s the foundation for libraries like Pandas, SciPy, TensorFlow, and scikit-learn. Most scientific Python packages convert inputs to NumPy arrays before processing.\n",
        "- Low-level optimization: Core operations are written in C/C++, giving it the performance edge while keeping Python’s readability.\n",
        "1."
      ]
    },
    {
      "cell_type": "markdown",
      "source": [
        " 2.How does broadcasting work in NumPy?                                          \n",
        "  suppose there are two arrays with diff shape one is one_dimension array and other is two dimension when we perform artematic operation in between these array . the array with small shape automatically expanded to match the shape of larger array .\n",
        "\n",
        "import numpy as np\n",
        "\n",
        "a = np.array([[1, 2, 3], [4, 5, 6]])  # shape (2, 3)\n",
        "b = np.array([10, 20, 30])           # shape (3,)\n",
        "\n",
        "print(a + b)\n",
        "\n",
        "\n",
        ">> Output: [[11 22 33]\n",
        "          [14 25 36]]"
      ],
      "metadata": {
        "id": "nHQRYD3JVk9H"
      }
    },
    {
      "cell_type": "markdown",
      "source": [
        "3.What is a Pandas DataFrame?\n",
        " pandas dataframe is used to present data in tabular form (i.e :  In raws and column), it maninly arrange comma seprated value in tabular form .\n",
        "\n",
        " example\n",
        "\n",
        "\n",
        "```\n",
        "# This is formatted as code\n",
        "\n",
        " import pandas as pd\n",
        " data = {'Name' : ['a', 'b' , 'c', 'd'],\n",
        "  'age' : [20, 21, 22, 23] ,\n",
        "  'marks' : [34 , 35, 36 , 37] }\n",
        "\n",
        "  a = pd.DataFrame(data)\n",
        "\n"
      ],
      "metadata": {
        "id": "6sprNBXCYid3"
      }
    },
    {
      "cell_type": "markdown",
      "source": [
        " 4.Explain the use of the groupby() method in Pandas ?\n",
        "  \n",
        " group() method is used to split data into groups , It split data on the bases of function like mean(), sum() , max() , count().\n",
        "\n",
        " example  \n",
        "\n",
        "```\n",
        "# This is formatted as code\n",
        "\n",
        "import pandas as pd\n",
        "d = { 'name' : ['a','b','a','d','b','a','d'],\n",
        "     'marks' : [10,20,30,40,50,60,70] }\n",
        "a = pd.DataFrame(d)\n",
        "a.groupby('name')['marks'].sum()"
      ],
      "metadata": {
        "id": "TG_vc44Vbre8"
      }
    },
    {
      "cell_type": "code",
      "source": [
        "import pandas as pd\n",
        "d = { 'name' : ['a','b','a','d','b','a','d'],\n",
        "     'marks' : [10,20,30,40,50,60,70] }\n",
        "a = pd.DataFrame(d)\n",
        "a.groupby('name')['marks'].sum()"
      ],
      "metadata": {
        "colab": {
          "base_uri": "https://localhost:8080/",
          "height": 209
        },
        "id": "AKDPyIvCcvXx",
        "outputId": "aa611a40-82b5-4212-87e5-e081bcdb1466"
      },
      "execution_count": null,
      "outputs": [
        {
          "output_type": "execute_result",
          "data": {
            "text/plain": [
              "name\n",
              "a    100\n",
              "b     70\n",
              "d    110\n",
              "Name: marks, dtype: int64"
            ],
            "text/html": [
              "<div>\n",
              "<style scoped>\n",
              "    .dataframe tbody tr th:only-of-type {\n",
              "        vertical-align: middle;\n",
              "    }\n",
              "\n",
              "    .dataframe tbody tr th {\n",
              "        vertical-align: top;\n",
              "    }\n",
              "\n",
              "    .dataframe thead th {\n",
              "        text-align: right;\n",
              "    }\n",
              "</style>\n",
              "<table border=\"1\" class=\"dataframe\">\n",
              "  <thead>\n",
              "    <tr style=\"text-align: right;\">\n",
              "      <th></th>\n",
              "      <th>marks</th>\n",
              "    </tr>\n",
              "    <tr>\n",
              "      <th>name</th>\n",
              "      <th></th>\n",
              "    </tr>\n",
              "  </thead>\n",
              "  <tbody>\n",
              "    <tr>\n",
              "      <th>a</th>\n",
              "      <td>100</td>\n",
              "    </tr>\n",
              "    <tr>\n",
              "      <th>b</th>\n",
              "      <td>70</td>\n",
              "    </tr>\n",
              "    <tr>\n",
              "      <th>d</th>\n",
              "      <td>110</td>\n",
              "    </tr>\n",
              "  </tbody>\n",
              "</table>\n",
              "</div><br><label><b>dtype:</b> int64</label>"
            ]
          },
          "metadata": {},
          "execution_count": 5
        }
      ]
    },
    {
      "cell_type": "markdown",
      "source": [
        "5.Why is Seaborn preferred for statistical visualizations?                       \n",
        " Seaborn is preferred for statistical visualizations because it turns raw data into insightful, elegant graphics with minimal code and maximum clarity. It’s not just a wrapper around Matplotlib—it’s a high-level toolkit built for data exploration, pattern recognition, and storytelling.\n"
      ],
      "metadata": {
        "id": "xAKAq0XIeIIm"
      }
    },
    {
      "cell_type": "markdown",
      "source": [
        "6.What are the differences between NumPy arrays and Python lists?\n",
        "\n",
        "numpy array : numpy array is  multi_dimesional , numpy array are homogenius(i.e : all element in array is of same type) , numpy array provide fast numaric operation , it consist rich set of mathamaticle operation\n",
        "\n",
        "list : list is one dimensional , list is hetrogenuis , numeric opration are slow , used for general purpose"
      ],
      "metadata": {
        "id": "qBHxIXuNf76B"
      }
    },
    {
      "cell_type": "markdown",
      "source": [
        "7. What is a heatmap, and when should it be used?\n",
        "\n",
        "- It’s a 2D graphical representation where each cell’s color reflects a numerical value.\n",
        "- Commonly used to highlight patterns, trends, and anomalies in large datasets.\n",
        "- The intensity of color helps viewers quickly grasp areas of interest or concern.\n",
        "\n",
        "\n",
        "Use heatmaps when you want to:\n",
        "- Spot patterns at a glance: Perfect for correlation matrices, sensor grids, or performance metrics.\n",
        "- Compare values across categories: Like student scores across subjects or traffic across time slots.\n",
        "- Identify outliers or clusters: Useful in cybersecurity, IoT, and automation logs.\n",
        "- Visualize density or frequency: For example, website click behavior or retail footfall analysis\n"
      ],
      "metadata": {
        "id": "rslLLrvthIvt"
      }
    },
    {
      "cell_type": "markdown",
      "source": [
        "8.What does the term “vectorized operation” mean in NumPy?\n",
        "\n",
        "In NumPy, a vectorized operation means performing computations on entire arrays without using explicit loops. It’s like telling NumPy: “Apply this operation to everything—all at once.” Behind the scenes, NumPy uses highly optimized C code to make this blazing fast.\n",
        "\n",
        "\n"
      ],
      "metadata": {
        "id": "nixdp3UQhfWg"
      }
    },
    {
      "cell_type": "markdown",
      "source": [
        "9. How does Matplotlib differ from Plotly?\n",
        "\n",
        "Matplotlib and Plotly are both powerful Python libraries for data visualization—but they serve different purposes and shine in different contexts. Think of Matplotlib as the classic artist and Plotly as the modern designer.\n",
        "\n",
        "- Type: Primarily for static plots (though it supports basic interactivity).\n",
        "- Customization: Extremely flexible—you can control every pixel, but it often requires more code.\n",
        "- Use Case: Ideal for academic papers, print-ready figures, and precise control over layout.\n",
        "- Integration: Foundation for libraries like Seaborn and Pandas plotting.\n",
        "- Output: Generates images (PNG, PDF, etc.)—great for reports and publications.\n"
      ],
      "metadata": {
        "id": "aXqN8zY5jydT"
      }
    },
    {
      "cell_type": "markdown",
      "source": [
        "10. What is the significance of hierarchical indexing in Pandas?\n",
        "\n",
        "Hierarchical indexing (or MultiIndexing) in pandas is a powerful feature that lets you work with higher-dimensional data in a two-dimensional DataFrame or Series. Here's why it's significant—especially for someone like you, Kartikesh, who’s building teaching modules and cheat sheets for learners in automation and data science:\n"
      ],
      "metadata": {
        "id": "ebf4Yhlyl3zK"
      }
    },
    {
      "cell_type": "markdown",
      "source": [],
      "metadata": {
        "id": "XTC7tQinzV_1"
      }
    },
    {
      "cell_type": "markdown",
      "source": [
        "11.What is the role of Seaborn’s pairplot() function?\n",
        "\n",
        "- It creates scatter plots for every pair of numeric columns.\n",
        "- On the diagonal, it shows the distribution of each variable (like histograms or KDE plots).\n",
        "- You can use the hue parameter to color-code points by category—great for spotting patterns across classes.\n"
      ],
      "metadata": {
        "id": "XlIzyUfUzaPG"
      }
    },
    {
      "cell_type": "markdown",
      "source": [
        "12. What is the purpose of the describe() function in Pandas?\n",
        "\n",
        " The describe() function in pandas is like a quick health check for your dataset. It gives you a summary of the most important statistics so you can understand your data better—without wr-  \n",
        " - count:How many non-missing values there are\n",
        "- mean: The average value\n",
        "- std: Standard deviation (how spread out the values are)\n",
        "- min and max: The smallest and largest values\n",
        "- 25%, 50%, 75%: Percentiles (helps you understand the distribution)\n",
        "iting a bunch of code.\n",
        "\n",
        "uses\n",
        "- Helps you spot missing data, outliers, or weird distributions\n",
        "- Gives a quick overview before plotting or modeling\n",
        "- Useful for data cleaning, feature engineering, and interview prep\n",
        "\n",
        "\n"
      ],
      "metadata": {
        "id": "adM19XOSzgrG"
      }
    },
    {
      "cell_type": "markdown",
      "source": [
        "13. Why is handling missing data important in Pandas?\n",
        "\n",
        "andling missing data in pandas is crucial because bad or incomplete data leads to bad decisions. Whether you're analyzing sensor logs, building predictive models, or preparing teaching materials, ignoring missing values can seriously mess things up\n",
        "\n",
        "- Accuracy: Missing values can distort averages, correlations, and trends. For example, calculating the mean temperature from a smart building dataset without handling NaN values will give incorrect results.\n",
        "- Model Performance: Machine learning algorithms don’t like NaNs. They might crash or give poor predictions unless you clean the data first.\n",
        "- Data Integrity: Unhandled gaps can lead to misleading visualizations or summaries. Imagine showing a bar chart where one category is missing just because the data wasn’t filled properly.\n",
        "- Better Insights: Filling missing values with smart defaults (like mean, median, or interpolation) helps preserve patterns and relationships in the data.\n"
      ],
      "metadata": {
        "id": "lqiZ7ygZ0RT1"
      }
    },
    {
      "cell_type": "markdown",
      "source": [
        "14.What are the benefits of using Plotly for data visualization?\n",
        "\n",
        "What are the benefits of using Plotly for data visualization\n",
        "\n",
        "1. Interactive Charts\n",
        "- Zoom, pan, hover, and click to explore data dynamically.\n",
        "- Great for dashboards, presentations, or teaching—learners can engage with the data directly.\n",
        "2. Minimal Code, Maximum Output\n",
        "- With plotly.express, you can create complex visuals in just one line of Python:\n",
        "3. Beautiful and Customizable\n",
        "- Clean, modern visuals with full control over layout, colors, annotations, and more.\n",
        "- You can tweak every detail to match your branding or teaching style.\n",
        "4. Supports Big Data and Advanced Analytics\n",
        "- Handles large datasets efficiently.\n",
        "- Integrates well with machine learning, forecasting, and NLP workflows.\n",
        "5. Cross-Language Compatibility\n",
        "- Works with Python, R, Julia, and JavaScript—ideal for multilingual teams or cross-platform projects.\n",
        "\n",
        "\n"
      ],
      "metadata": {
        "id": "YscchhYF0jly"
      }
    },
    {
      "cell_type": "markdown",
      "source": [
        "15.How does NumPy handle multidimensional arrays?\n",
        "\n",
        "NumPy handles multidimensional arrays using a powerful object called the ndarray, which stands for N-dimensional array. This is the backbone of NumPy and allows you to work with data in 1D, 2D, 3D, or even higher dimensions.\n",
        "\n",
        "\n",
        "- Shape: Every array has a .shape attribute that tells you the size of each dimension.\n",
        "Example: A 2D array with 3 rows and 4 columns has shape (3, 4).\n",
        "- Indexing and Slicing: You can access elements using multiple indices.\n",
        "Example: arr[1, 2] gets the element in row 1, column 2 of a 2D array.\n",
        "- Reshaping: You can change the dimensions using .reshape().\n",
        "Example: Convert a 1D array of 12 elements into a 3D array of shape (2, 2, 3).\n"
      ],
      "metadata": {
        "id": "ymk-OR2D1oLZ"
      }
    },
    {
      "cell_type": "markdown",
      "source": [
        "16.What is the role of Bokeh in data visualization?\n",
        "\n",
        "Bokeh plays a powerful role in data visualization by helping you create interactive, web-ready plots using Python—without needing to write JavaScript. It’s especially useful when you want your visuals to be dynamic, shareable, and scalable.\n"
      ],
      "metadata": {
        "id": "SaMXr4ZZ2BGi"
      }
    },
    {
      "cell_type": "markdown",
      "source": [
        "17.Explain the difference between apply() and map() in Pandas?\n",
        "\n",
        "\n",
        "map() is designed specifically for Series objects. It works element by element, applying a function to each individual value. Think of it like editing each word in a sentence—simple, direct, and great for tasks like formatting strings, replacing values, or scaling numbers. For example, if you have a column of temperatures in Celsius and want to convert them to Fahrenheit, map() is perfect.\n",
        "On the other hand, apply() is more flexible. It works on both Series and DataFrames. When used on a Series, it behaves similarly to map(). But when used on a DataFrame, it can apply a function across rows or columns, depending on the axis you choose. This makes it ideal for more complex operations—like computing the maximum value across each row, or applying a custom function that combines multiple columns.\n",
        "So in short: use map() for simple, element-wise transformations on a single column, and reach for apply() when you need more control or want to work across multiple columns or rows.\n",
        "\n"
      ],
      "metadata": {
        "id": "la6O-BpN2MaW"
      }
    },
    {
      "cell_type": "markdown",
      "source": [
        "18. What are some advanced features of NumPy?\n",
        "\n",
        "1. Broadcasting\n",
        "This lets you perform operations on arrays of different shapes without writing loops. For example, adding a 1D array to each row of a 2D array—NumPy automatically stretches the smaller array to match the shape.\n",
        "\n",
        "2. Vectorized Operations\n",
        "NumPy replaces slow Python loops with fast, compiled C operations under the hood. You can apply mathematical functions directly to arrays—like np.sin(arr) or arr ** 2—and it runs lightning-fast.\n",
        "\n",
        "3.Linear Algebra\n",
        "NumPy includes a full suite of linear algebra tools: matrix multiplication (@ or np.dot()), eigenvalues, determinants, inverses, and more. Perfect for signal processing, control systems, or smart building simulations.\n",
        "\n",
        "5.. Random Number Generation\n",
        "The np.random module lets you simulate data, generate noise, or run Monte Carlo experiments. You can draw from normal, uniform, binomial distributions and more.\n",
        "\n",
        "6. Memory Mapping and File I/O\n",
        "For massive datasets, NumPy supports memory-mapped files (np.memmap) so you can work with data that doesn’t fit in RAM. It also supports saving/loading arrays in binary (.npy) or text formats.\n",
        "\n",
        "\n"
      ],
      "metadata": {
        "id": "vA4BaSqh2m12"
      }
    },
    {
      "cell_type": "markdown",
      "source": [
        "19. How does Pandas simplify time series analysis?\n",
        "\n",
        "Pandas makes time series analysis surprisingly smooth by giving you tools that feel natural and intuitive—especially when working with dates, trends, and patterns over time.\n",
        "Here's how it simplifies the process:\n",
        "1. DateTime Indexing\n",
        "You can set a column of timestamps as the index, which lets you filter, slice, and resample data based on time. For example, you can easily grab all rows from January 2025 with just:\n",
        "df['2025-01']\n",
        "\n",
        "\n",
        "2. Resampling\n",
        "Need to convert daily data to monthly averages or hourly logs to 10-minute intervals? Pandas makes this easy with .resample():\n",
        "df.resample('M').mean()  # Monthly average\n",
        "\n",
        "\n",
        "3. Rolling Windows\n",
        "You can calculate moving averages or rolling sums to smooth out noisy data:\n",
        "df['temp'].rolling(window=7).mean()  # 7-day moving average\n",
        "\n",
        "\n",
        "4. Time Shifting\n",
        "Want to compare today’s data with yesterday’s? Use .shift() to move data forward or backward in time:\n",
        "df['temp_diff'] = df['temp'] - df['temp'].shift(1)\n",
        "\n",
        "\n",
        "5. Frequency Conversion\n",
        "Pandas lets you define and change the frequency of your time series—like converting minute-level data to hourly or daily summaries.\n",
        "6. Built-in Date Handling\n",
        "It integrates seamlessly with Python’s datetime module, so you can parse, format, and manipulate dates without extra libraries.\n",
        "7. Missing Data Handling\n",
        "Time series often have gaps. Pandas can fill missing timestamps and interpolate values to keep your analysis clean and continuous.\n",
        "\n"
      ],
      "metadata": {
        "id": "aRmj3Dab3L8W"
      }
    },
    {
      "cell_type": "markdown",
      "source": [
        "20.What is the role of a pivot table in Pandas?\n",
        "\n",
        "A pivot table in pandas plays the role of a data summarizer. It helps you reorganize, group, and aggregate your data in a way that makes patterns easier to spot—especially when you're dealing with large or messy datasets.\n",
        "\n",
        "- Group data by region or date\n",
        "- Calculate totals, averages, or counts\n",
        "- Rearrange the layout so rows become columns and vice versa\n",
        "This turns raw data into a clear, structured summary—like a mini report.\n",
        "\n"
      ],
      "metadata": {
        "id": "2FmyX5JX3e4a"
      }
    },
    {
      "cell_type": "markdown",
      "source": [
        "21.Why is NumPy’s array slicing faster than Python’s list slicing?\n",
        "\n",
        "NumPy’s array slicing is faster than Python’s list slicing because it’s built for speed, memory efficiency, and numerical precision—all under the hood.\n",
        "Here’s why it outperforms regular Python lists:\n",
        "\n",
        " 1. Contiguous Memory Layout\n",
        "NumPy arrays store data in a single, continuous block of memory. This means slicing doesn’t involve copying data—it just creates a view into the original array. Python lists, on the other hand, are made of scattered references to objects in memory, so slicing them involves creating a new list and copying each element.\n",
        "\n",
        " 2. Fixed Data Types\n",
        "NumPy arrays are homogeneous—every element is of the same type (like int32 or float64). This allows NumPy to skip type-checking during operations. Python lists are heterogeneous, so Python has to check each element’s type during slicing or arithmetic, which slows things down.\n",
        "\n",
        " 3. Optimized C Backend\n",
        "NumPy is written in C and uses highly optimized libraries like BLAS and LAPACK. When you slice or manipulate arrays, you’re tapping into compiled code that runs much fast\n"
      ],
      "metadata": {
        "id": "5edp8Y2s3vjz"
      }
    },
    {
      "cell_type": "markdown",
      "source": [
        "22. What are some common use cases for Seaborn?\n",
        "\n",
        "Seaborn is a go-to library when you want to create statistical visualizations that are both beautiful and insightful—without writing a ton of code. It’s built on top of Matplotlib and works seamlessly with pandas, making it perfect for data exploration, teaching, and storytelling.\n",
        "Here are some of the most common use cases:\n",
        "\n",
        " 1. Visualizing Relationships Between Variables\n",
        "Use scatter plots, line plots, and regression plots to explore how two or more variables interact. For example, you can show how temperature and humidity vary across sensor types using sns.scatterplot() or sns.lmplot().\n",
        "\n",
        " 2. Distribution Analysis\n",
        "Seaborn makes it easy to understand how data is spread out using histograms, KDE plots, and ECDF plots. These are great for spotting skewness, outliers, or multimodal distributions.\n",
        "\n",
        "\n"
      ],
      "metadata": {
        "id": "kBMQ7aYg4COb"
      }
    },
    {
      "cell_type": "markdown",
      "source": [
        "# ***practicle***"
      ],
      "metadata": {
        "id": "befTmFrM4bne"
      }
    },
    {
      "cell_type": "code",
      "source": [
        "# 1. How do you create a 2D NumPy array and calculate the sum of each row?\n",
        "\n",
        "import numpy as np\n",
        "a = np.array([[1,2,3,4] , [5,6,7,8] , [9,10,11,12]])\n",
        "a.sum(axis = 1)"
      ],
      "metadata": {
        "id": "i6qieU1tjx4A",
        "colab": {
          "base_uri": "https://localhost:8080/"
        },
        "outputId": "d0f94af4-bc85-437d-fa27-20fc77f663ec"
      },
      "execution_count": 9,
      "outputs": [
        {
          "output_type": "execute_result",
          "data": {
            "text/plain": [
              "array([10, 26, 42])"
            ]
          },
          "metadata": {},
          "execution_count": 9
        }
      ]
    },
    {
      "cell_type": "code",
      "source": [
        "# 2.Write a Pandas script to find the mean of a specific column in a DataFrame?\n",
        "\n",
        "import pandas as pd\n",
        "data = { 'Age': [23,20,23,25,26,27,28],\n",
        "        'marks': [45,67,89,89,70,34,35]}\n",
        "a = pd.DataFrame(data)\n",
        "mean = a['Age'].mean()\n",
        "print(\"avg age is\", mean)"
      ],
      "metadata": {
        "id": "kuOgk8y15MNB",
        "outputId": "bb440bc6-600a-43bf-8e2b-642c9a358a06",
        "colab": {
          "base_uri": "https://localhost:8080/"
        }
      },
      "execution_count": 13,
      "outputs": [
        {
          "output_type": "stream",
          "name": "stdout",
          "text": [
            "avg age is 24.571428571428573\n"
          ]
        }
      ]
    },
    {
      "cell_type": "code",
      "source": [
        "# 3. Create a scatter plot using Matplotlib\n",
        "import matplotlib.pyplot as plt\n",
        "import numpy as np\n",
        "\n",
        "\n",
        "x = np.array([10, 20, 30, 40, 50])\n",
        "y = np.array([15, 25, 35, 45, 55])\n",
        "\n",
        "\n",
        "plt.scatter(x, y, color='blue', marker='o')\n",
        "\n",
        "plt.xlabel('X-axis values')\n",
        "plt.ylabel('Y-axis values')\n",
        "plt.title('Basic Scatter Plot')\n",
        "\n",
        "\n",
        "plt.show()"
      ],
      "metadata": {
        "id": "UJwmKLwE6Y0d"
      },
      "execution_count": null,
      "outputs": []
    },
    {
      "cell_type": "code",
      "source": [
        "#4. How do you calculate the correlation matrix using Seaborn and visualize it with a heatmap?\n",
        "\n",
        "import pandas as pd\n",
        "import seaborn as sns\n",
        "import matplotlib.pyplot as plt\n",
        "\n",
        "\n",
        "df = pd.DataFrame({\n",
        "    'temperature': [22, 24, 21, 25, 23],\n",
        "    'humidity': [55, 60, 58, 62, 59],\n",
        "    'pressure': [1012, 1010, 1013, 1009, 1011]\n",
        "})\n",
        "\n",
        "\n",
        "corr_matrix = df.corr()\n",
        "\n",
        "\n",
        "sns.heatmap(corr_matrix, annot=True, cmap='coolwarm')\n",
        "\n",
        "\n",
        "plt.title(\"Correlation Matrix Heatmap\")\n",
        "plt.show()"
      ],
      "metadata": {
        "id": "OKNJq3W96nlA"
      },
      "execution_count": null,
      "outputs": []
    },
    {
      "cell_type": "code",
      "source": [
        "#5. Generate a bar plot using Plotly\n",
        "\n",
        "import plotly.express as px\n",
        "import pandas as pd\n",
        "\n",
        "data = pd.DataFrame({\n",
        "    'Device': ['Sensor A', 'Sensor B', 'Sensor C', 'Sensor D'],\n",
        "    'Readings': [120, 90, 150, 80]\n",
        "})\n",
        "\n",
        "fig = px.bar(data, x='Device', y='Readings', title='Sensor Readings Overview')\n",
        "fig.show()"
      ],
      "metadata": {
        "id": "bV--UeXf62lu"
      },
      "execution_count": null,
      "outputs": []
    },
    {
      "cell_type": "code",
      "source": [
        "#6. Create a DataFrame and add a new column based on an existing column\n",
        "\n",
        "import pandas as pd\n",
        "data = { 'phy': [36,46,47,48,49,50],\n",
        "        'math': [56,77,78,76,85,55],\n",
        "         'chem': [56,56,67,45,76,88]}\n",
        "a = pd.DataFrame(data)\n",
        "a['totalmarks'] = a['phy'] +a['math']+ a['chem']\n",
        "a"
      ],
      "metadata": {
        "id": "fhP3FCWJ6-rJ",
        "outputId": "168dde1b-49cb-42d8-c7f3-c678c5a13721",
        "colab": {
          "base_uri": "https://localhost:8080/",
          "height": 237
        }
      },
      "execution_count": 19,
      "outputs": [
        {
          "output_type": "execute_result",
          "data": {
            "text/plain": [
              "   phy  math  chem  totalmarks\n",
              "0   36    56    56         148\n",
              "1   46    77    56         179\n",
              "2   47    78    67         192\n",
              "3   48    76    45         169\n",
              "4   49    85    76         210\n",
              "5   50    55    88         193"
            ],
            "text/html": [
              "\n",
              "  <div id=\"df-fbd7160c-fade-41b2-ac8b-974cb58270c4\" class=\"colab-df-container\">\n",
              "    <div>\n",
              "<style scoped>\n",
              "    .dataframe tbody tr th:only-of-type {\n",
              "        vertical-align: middle;\n",
              "    }\n",
              "\n",
              "    .dataframe tbody tr th {\n",
              "        vertical-align: top;\n",
              "    }\n",
              "\n",
              "    .dataframe thead th {\n",
              "        text-align: right;\n",
              "    }\n",
              "</style>\n",
              "<table border=\"1\" class=\"dataframe\">\n",
              "  <thead>\n",
              "    <tr style=\"text-align: right;\">\n",
              "      <th></th>\n",
              "      <th>phy</th>\n",
              "      <th>math</th>\n",
              "      <th>chem</th>\n",
              "      <th>totalmarks</th>\n",
              "    </tr>\n",
              "  </thead>\n",
              "  <tbody>\n",
              "    <tr>\n",
              "      <th>0</th>\n",
              "      <td>36</td>\n",
              "      <td>56</td>\n",
              "      <td>56</td>\n",
              "      <td>148</td>\n",
              "    </tr>\n",
              "    <tr>\n",
              "      <th>1</th>\n",
              "      <td>46</td>\n",
              "      <td>77</td>\n",
              "      <td>56</td>\n",
              "      <td>179</td>\n",
              "    </tr>\n",
              "    <tr>\n",
              "      <th>2</th>\n",
              "      <td>47</td>\n",
              "      <td>78</td>\n",
              "      <td>67</td>\n",
              "      <td>192</td>\n",
              "    </tr>\n",
              "    <tr>\n",
              "      <th>3</th>\n",
              "      <td>48</td>\n",
              "      <td>76</td>\n",
              "      <td>45</td>\n",
              "      <td>169</td>\n",
              "    </tr>\n",
              "    <tr>\n",
              "      <th>4</th>\n",
              "      <td>49</td>\n",
              "      <td>85</td>\n",
              "      <td>76</td>\n",
              "      <td>210</td>\n",
              "    </tr>\n",
              "    <tr>\n",
              "      <th>5</th>\n",
              "      <td>50</td>\n",
              "      <td>55</td>\n",
              "      <td>88</td>\n",
              "      <td>193</td>\n",
              "    </tr>\n",
              "  </tbody>\n",
              "</table>\n",
              "</div>\n",
              "    <div class=\"colab-df-buttons\">\n",
              "\n",
              "  <div class=\"colab-df-container\">\n",
              "    <button class=\"colab-df-convert\" onclick=\"convertToInteractive('df-fbd7160c-fade-41b2-ac8b-974cb58270c4')\"\n",
              "            title=\"Convert this dataframe to an interactive table.\"\n",
              "            style=\"display:none;\">\n",
              "\n",
              "  <svg xmlns=\"http://www.w3.org/2000/svg\" height=\"24px\" viewBox=\"0 -960 960 960\">\n",
              "    <path d=\"M120-120v-720h720v720H120Zm60-500h600v-160H180v160Zm220 220h160v-160H400v160Zm0 220h160v-160H400v160ZM180-400h160v-160H180v160Zm440 0h160v-160H620v160ZM180-180h160v-160H180v160Zm440 0h160v-160H620v160Z\"/>\n",
              "  </svg>\n",
              "    </button>\n",
              "\n",
              "  <style>\n",
              "    .colab-df-container {\n",
              "      display:flex;\n",
              "      gap: 12px;\n",
              "    }\n",
              "\n",
              "    .colab-df-convert {\n",
              "      background-color: #E8F0FE;\n",
              "      border: none;\n",
              "      border-radius: 50%;\n",
              "      cursor: pointer;\n",
              "      display: none;\n",
              "      fill: #1967D2;\n",
              "      height: 32px;\n",
              "      padding: 0 0 0 0;\n",
              "      width: 32px;\n",
              "    }\n",
              "\n",
              "    .colab-df-convert:hover {\n",
              "      background-color: #E2EBFA;\n",
              "      box-shadow: 0px 1px 2px rgba(60, 64, 67, 0.3), 0px 1px 3px 1px rgba(60, 64, 67, 0.15);\n",
              "      fill: #174EA6;\n",
              "    }\n",
              "\n",
              "    .colab-df-buttons div {\n",
              "      margin-bottom: 4px;\n",
              "    }\n",
              "\n",
              "    [theme=dark] .colab-df-convert {\n",
              "      background-color: #3B4455;\n",
              "      fill: #D2E3FC;\n",
              "    }\n",
              "\n",
              "    [theme=dark] .colab-df-convert:hover {\n",
              "      background-color: #434B5C;\n",
              "      box-shadow: 0px 1px 3px 1px rgba(0, 0, 0, 0.15);\n",
              "      filter: drop-shadow(0px 1px 2px rgba(0, 0, 0, 0.3));\n",
              "      fill: #FFFFFF;\n",
              "    }\n",
              "  </style>\n",
              "\n",
              "    <script>\n",
              "      const buttonEl =\n",
              "        document.querySelector('#df-fbd7160c-fade-41b2-ac8b-974cb58270c4 button.colab-df-convert');\n",
              "      buttonEl.style.display =\n",
              "        google.colab.kernel.accessAllowed ? 'block' : 'none';\n",
              "\n",
              "      async function convertToInteractive(key) {\n",
              "        const element = document.querySelector('#df-fbd7160c-fade-41b2-ac8b-974cb58270c4');\n",
              "        const dataTable =\n",
              "          await google.colab.kernel.invokeFunction('convertToInteractive',\n",
              "                                                    [key], {});\n",
              "        if (!dataTable) return;\n",
              "\n",
              "        const docLinkHtml = 'Like what you see? Visit the ' +\n",
              "          '<a target=\"_blank\" href=https://colab.research.google.com/notebooks/data_table.ipynb>data table notebook</a>'\n",
              "          + ' to learn more about interactive tables.';\n",
              "        element.innerHTML = '';\n",
              "        dataTable['output_type'] = 'display_data';\n",
              "        await google.colab.output.renderOutput(dataTable, element);\n",
              "        const docLink = document.createElement('div');\n",
              "        docLink.innerHTML = docLinkHtml;\n",
              "        element.appendChild(docLink);\n",
              "      }\n",
              "    </script>\n",
              "  </div>\n",
              "\n",
              "\n",
              "    <div id=\"df-a622cf28-9b41-4d08-90f5-0ba55911de32\">\n",
              "      <button class=\"colab-df-quickchart\" onclick=\"quickchart('df-a622cf28-9b41-4d08-90f5-0ba55911de32')\"\n",
              "                title=\"Suggest charts\"\n",
              "                style=\"display:none;\">\n",
              "\n",
              "<svg xmlns=\"http://www.w3.org/2000/svg\" height=\"24px\"viewBox=\"0 0 24 24\"\n",
              "     width=\"24px\">\n",
              "    <g>\n",
              "        <path d=\"M19 3H5c-1.1 0-2 .9-2 2v14c0 1.1.9 2 2 2h14c1.1 0 2-.9 2-2V5c0-1.1-.9-2-2-2zM9 17H7v-7h2v7zm4 0h-2V7h2v10zm4 0h-2v-4h2v4z\"/>\n",
              "    </g>\n",
              "</svg>\n",
              "      </button>\n",
              "\n",
              "<style>\n",
              "  .colab-df-quickchart {\n",
              "      --bg-color: #E8F0FE;\n",
              "      --fill-color: #1967D2;\n",
              "      --hover-bg-color: #E2EBFA;\n",
              "      --hover-fill-color: #174EA6;\n",
              "      --disabled-fill-color: #AAA;\n",
              "      --disabled-bg-color: #DDD;\n",
              "  }\n",
              "\n",
              "  [theme=dark] .colab-df-quickchart {\n",
              "      --bg-color: #3B4455;\n",
              "      --fill-color: #D2E3FC;\n",
              "      --hover-bg-color: #434B5C;\n",
              "      --hover-fill-color: #FFFFFF;\n",
              "      --disabled-bg-color: #3B4455;\n",
              "      --disabled-fill-color: #666;\n",
              "  }\n",
              "\n",
              "  .colab-df-quickchart {\n",
              "    background-color: var(--bg-color);\n",
              "    border: none;\n",
              "    border-radius: 50%;\n",
              "    cursor: pointer;\n",
              "    display: none;\n",
              "    fill: var(--fill-color);\n",
              "    height: 32px;\n",
              "    padding: 0;\n",
              "    width: 32px;\n",
              "  }\n",
              "\n",
              "  .colab-df-quickchart:hover {\n",
              "    background-color: var(--hover-bg-color);\n",
              "    box-shadow: 0 1px 2px rgba(60, 64, 67, 0.3), 0 1px 3px 1px rgba(60, 64, 67, 0.15);\n",
              "    fill: var(--button-hover-fill-color);\n",
              "  }\n",
              "\n",
              "  .colab-df-quickchart-complete:disabled,\n",
              "  .colab-df-quickchart-complete:disabled:hover {\n",
              "    background-color: var(--disabled-bg-color);\n",
              "    fill: var(--disabled-fill-color);\n",
              "    box-shadow: none;\n",
              "  }\n",
              "\n",
              "  .colab-df-spinner {\n",
              "    border: 2px solid var(--fill-color);\n",
              "    border-color: transparent;\n",
              "    border-bottom-color: var(--fill-color);\n",
              "    animation:\n",
              "      spin 1s steps(1) infinite;\n",
              "  }\n",
              "\n",
              "  @keyframes spin {\n",
              "    0% {\n",
              "      border-color: transparent;\n",
              "      border-bottom-color: var(--fill-color);\n",
              "      border-left-color: var(--fill-color);\n",
              "    }\n",
              "    20% {\n",
              "      border-color: transparent;\n",
              "      border-left-color: var(--fill-color);\n",
              "      border-top-color: var(--fill-color);\n",
              "    }\n",
              "    30% {\n",
              "      border-color: transparent;\n",
              "      border-left-color: var(--fill-color);\n",
              "      border-top-color: var(--fill-color);\n",
              "      border-right-color: var(--fill-color);\n",
              "    }\n",
              "    40% {\n",
              "      border-color: transparent;\n",
              "      border-right-color: var(--fill-color);\n",
              "      border-top-color: var(--fill-color);\n",
              "    }\n",
              "    60% {\n",
              "      border-color: transparent;\n",
              "      border-right-color: var(--fill-color);\n",
              "    }\n",
              "    80% {\n",
              "      border-color: transparent;\n",
              "      border-right-color: var(--fill-color);\n",
              "      border-bottom-color: var(--fill-color);\n",
              "    }\n",
              "    90% {\n",
              "      border-color: transparent;\n",
              "      border-bottom-color: var(--fill-color);\n",
              "    }\n",
              "  }\n",
              "</style>\n",
              "\n",
              "      <script>\n",
              "        async function quickchart(key) {\n",
              "          const quickchartButtonEl =\n",
              "            document.querySelector('#' + key + ' button');\n",
              "          quickchartButtonEl.disabled = true;  // To prevent multiple clicks.\n",
              "          quickchartButtonEl.classList.add('colab-df-spinner');\n",
              "          try {\n",
              "            const charts = await google.colab.kernel.invokeFunction(\n",
              "                'suggestCharts', [key], {});\n",
              "          } catch (error) {\n",
              "            console.error('Error during call to suggestCharts:', error);\n",
              "          }\n",
              "          quickchartButtonEl.classList.remove('colab-df-spinner');\n",
              "          quickchartButtonEl.classList.add('colab-df-quickchart-complete');\n",
              "        }\n",
              "        (() => {\n",
              "          let quickchartButtonEl =\n",
              "            document.querySelector('#df-a622cf28-9b41-4d08-90f5-0ba55911de32 button');\n",
              "          quickchartButtonEl.style.display =\n",
              "            google.colab.kernel.accessAllowed ? 'block' : 'none';\n",
              "        })();\n",
              "      </script>\n",
              "    </div>\n",
              "\n",
              "  <div id=\"id_6f0750b0-4e62-475e-bb89-10dece1b4735\">\n",
              "    <style>\n",
              "      .colab-df-generate {\n",
              "        background-color: #E8F0FE;\n",
              "        border: none;\n",
              "        border-radius: 50%;\n",
              "        cursor: pointer;\n",
              "        display: none;\n",
              "        fill: #1967D2;\n",
              "        height: 32px;\n",
              "        padding: 0 0 0 0;\n",
              "        width: 32px;\n",
              "      }\n",
              "\n",
              "      .colab-df-generate:hover {\n",
              "        background-color: #E2EBFA;\n",
              "        box-shadow: 0px 1px 2px rgba(60, 64, 67, 0.3), 0px 1px 3px 1px rgba(60, 64, 67, 0.15);\n",
              "        fill: #174EA6;\n",
              "      }\n",
              "\n",
              "      [theme=dark] .colab-df-generate {\n",
              "        background-color: #3B4455;\n",
              "        fill: #D2E3FC;\n",
              "      }\n",
              "\n",
              "      [theme=dark] .colab-df-generate:hover {\n",
              "        background-color: #434B5C;\n",
              "        box-shadow: 0px 1px 3px 1px rgba(0, 0, 0, 0.15);\n",
              "        filter: drop-shadow(0px 1px 2px rgba(0, 0, 0, 0.3));\n",
              "        fill: #FFFFFF;\n",
              "      }\n",
              "    </style>\n",
              "    <button class=\"colab-df-generate\" onclick=\"generateWithVariable('a')\"\n",
              "            title=\"Generate code using this dataframe.\"\n",
              "            style=\"display:none;\">\n",
              "\n",
              "  <svg xmlns=\"http://www.w3.org/2000/svg\" height=\"24px\"viewBox=\"0 0 24 24\"\n",
              "       width=\"24px\">\n",
              "    <path d=\"M7,19H8.4L18.45,9,17,7.55,7,17.6ZM5,21V16.75L18.45,3.32a2,2,0,0,1,2.83,0l1.4,1.43a1.91,1.91,0,0,1,.58,1.4,1.91,1.91,0,0,1-.58,1.4L9.25,21ZM18.45,9,17,7.55Zm-12,3A5.31,5.31,0,0,0,4.9,8.1,5.31,5.31,0,0,0,1,6.5,5.31,5.31,0,0,0,4.9,4.9,5.31,5.31,0,0,0,6.5,1,5.31,5.31,0,0,0,8.1,4.9,5.31,5.31,0,0,0,12,6.5,5.46,5.46,0,0,0,6.5,12Z\"/>\n",
              "  </svg>\n",
              "    </button>\n",
              "    <script>\n",
              "      (() => {\n",
              "      const buttonEl =\n",
              "        document.querySelector('#id_6f0750b0-4e62-475e-bb89-10dece1b4735 button.colab-df-generate');\n",
              "      buttonEl.style.display =\n",
              "        google.colab.kernel.accessAllowed ? 'block' : 'none';\n",
              "\n",
              "      buttonEl.onclick = () => {\n",
              "        google.colab.notebook.generateWithVariable('a');\n",
              "      }\n",
              "      })();\n",
              "    </script>\n",
              "  </div>\n",
              "\n",
              "    </div>\n",
              "  </div>\n"
            ],
            "application/vnd.google.colaboratory.intrinsic+json": {
              "type": "dataframe",
              "variable_name": "a",
              "summary": "{\n  \"name\": \"a\",\n  \"rows\": 6,\n  \"fields\": [\n    {\n      \"column\": \"phy\",\n      \"properties\": {\n        \"dtype\": \"number\",\n        \"std\": 5,\n        \"min\": 36,\n        \"max\": 50,\n        \"num_unique_values\": 6,\n        \"samples\": [\n          36,\n          46,\n          50\n        ],\n        \"semantic_type\": \"\",\n        \"description\": \"\"\n      }\n    },\n    {\n      \"column\": \"math\",\n      \"properties\": {\n        \"dtype\": \"number\",\n        \"std\": 12,\n        \"min\": 55,\n        \"max\": 85,\n        \"num_unique_values\": 6,\n        \"samples\": [\n          56,\n          77,\n          55\n        ],\n        \"semantic_type\": \"\",\n        \"description\": \"\"\n      }\n    },\n    {\n      \"column\": \"chem\",\n      \"properties\": {\n        \"dtype\": \"number\",\n        \"std\": 15,\n        \"min\": 45,\n        \"max\": 88,\n        \"num_unique_values\": 5,\n        \"samples\": [\n          67,\n          88,\n          45\n        ],\n        \"semantic_type\": \"\",\n        \"description\": \"\"\n      }\n    },\n    {\n      \"column\": \"totalmarks\",\n      \"properties\": {\n        \"dtype\": \"number\",\n        \"std\": 21,\n        \"min\": 148,\n        \"max\": 210,\n        \"num_unique_values\": 6,\n        \"samples\": [\n          148,\n          179,\n          193\n        ],\n        \"semantic_type\": \"\",\n        \"description\": \"\"\n      }\n    }\n  ]\n}"
            }
          },
          "metadata": {},
          "execution_count": 19
        }
      ]
    },
    {
      "cell_type": "code",
      "source": [
        "#7.Write a program to perform element-wise multiplication of two NumPy arrays\n",
        "\n",
        "import numpy as np\n",
        "a = np.array([[1,2,3,4],[5,6,7,8],[9,10,11,12]])\n",
        "b = np.array([[2,3,5,6],[7,4,2,6],[1,5,3,8]])\n",
        "print(a*b)"
      ],
      "metadata": {
        "id": "Utz5nqr58r9A",
        "outputId": "f90d5b47-af59-481a-9384-3941ec533ce1",
        "colab": {
          "base_uri": "https://localhost:8080/"
        }
      },
      "execution_count": 20,
      "outputs": [
        {
          "output_type": "stream",
          "name": "stdout",
          "text": [
            "[[ 2  6 15 24]\n",
            " [35 24 14 48]\n",
            " [ 9 50 33 96]]\n"
          ]
        }
      ]
    },
    {
      "cell_type": "code",
      "source": [
        "#8.Create a line plot with multiple lines using Matplotlib\n",
        "\n",
        "import matplotlib.pyplot as plt\n",
        "\n",
        "x = [1, 2, 3, 4, 5]\n",
        "y1 = [10, 20, 25, 30, 40]\n",
        "y2 = [5, 15, 20, 25, 35]\n",
        "y3 = [2, 10, 15, 22, 28]\n",
        "\n",
        "plt.plot(x, y1, label='Sensor A', marker='o')\n",
        "plt.plot(x, y2, label='Sensor B', marker='s')\n",
        "plt.plot(x, y3, label='Sensor C', marker='^')\n",
        "\n",
        "plt.xlabel('Time')\n",
        "plt.ylabel('Readings')\n",
        "plt.title('Sensor Readings Over Time')\n",
        "plt.legend()\n",
        "plt.grid(True)\n",
        "plt.show()"
      ],
      "metadata": {
        "id": "MoyvXTdV9J2K"
      },
      "execution_count": null,
      "outputs": []
    },
    {
      "cell_type": "code",
      "source": [
        "#9.Generate a Pandas DataFrame and filter rows where a column value is greater than a threshold\n",
        "import pandas as pd\n",
        "\n",
        "data = {\n",
        "    'Device': ['Sensor A', 'Sensor B', 'Sensor C', 'Sensor D'],\n",
        "    'Temperature': [22, 28, 19, 31]\n",
        "}\n",
        "\n",
        "df = pd.DataFrame(data)\n",
        "\n",
        "filtered_df = df[df['Temperature'] > 25]\n",
        "\n",
        "print(filtered_df)"
      ],
      "metadata": {
        "id": "JZOg86aG9VpL"
      },
      "execution_count": null,
      "outputs": []
    },
    {
      "cell_type": "code",
      "source": [
        "#10. Create a histogram using Seaborn to visualize a distribution\n",
        "import seaborn as sns\n",
        "import matplotlib.pyplot as plt\n",
        "import numpy as np\n",
        "\n",
        "data = np.random.normal(loc=50, scale=10, size=1000)\n",
        "\n",
        "sns.histplot(data, bins=30, kde=True, color='skyblue')\n",
        "\n",
        "plt.title(\"Distribution of Sensor Readings\")\n",
        "plt.xlabel(\"Reading Value\")\n",
        "plt.ylabel(\"Frequency\")\n",
        "plt.show()"
      ],
      "metadata": {
        "id": "T8T4VZ7G9n0f"
      },
      "execution_count": null,
      "outputs": []
    },
    {
      "cell_type": "code",
      "source": [
        "#11. Perform matrix multiplication using NumPy\n",
        "import numpy as np\n",
        "\n",
        "A = np.array([[1, 2], [3, 4]])\n",
        "B = np.array([[5, 6], [7, 8]])\n",
        "\n",
        "result = np.dot(A, B)\n",
        "\n",
        "print(\"Matrix multiplication result:\\n\", result)"
      ],
      "metadata": {
        "id": "kOVxvy1I9x7Z"
      },
      "execution_count": null,
      "outputs": []
    },
    {
      "cell_type": "code",
      "source": [
        "#12. Use Pandas to load a CSV file and display its first 5 rows\n",
        "import pandas as pd\n",
        "\n",
        "df = pd.read_csv('your_file.csv')\n",
        "print(df.head())"
      ],
      "metadata": {
        "id": "picx_Rr6-CPx",
        "outputId": "c11ea863-6444-41e8-98fd-1ef1b8d640a8",
        "colab": {
          "base_uri": "https://localhost:8080/",
          "height": 193
        }
      },
      "execution_count": 26,
      "outputs": [
        {
          "output_type": "error",
          "ename": "TypeError",
          "evalue": "'DataFrame' object is not callable",
          "traceback": [
            "\u001b[0;31m---------------------------------------------------------------------------\u001b[0m",
            "\u001b[0;31mTypeError\u001b[0m                                 Traceback (most recent call last)",
            "\u001b[0;32m/tmp/ipython-input-1491454296.py\u001b[0m in \u001b[0;36m<cell line: 0>\u001b[0;34m()\u001b[0m\n\u001b[1;32m      3\u001b[0m \u001b[0;34m\u001b[0m\u001b[0m\n\u001b[1;32m      4\u001b[0m \u001b[0mdf\u001b[0m \u001b[0;34m=\u001b[0m \u001b[0mpd\u001b[0m\u001b[0;34m.\u001b[0m\u001b[0mread_csv\u001b[0m\u001b[0;34m(\u001b[0m\u001b[0;34m'https://raw.githubusercontent.com/datasciencedojo/datasets/master/titanic.csv'\u001b[0m\u001b[0;34m)\u001b[0m\u001b[0;34m\u001b[0m\u001b[0;34m\u001b[0m\u001b[0m\n\u001b[0;32m----> 5\u001b[0;31m \u001b[0mdf1\u001b[0m \u001b[0;34m=\u001b[0m \u001b[0mpd\u001b[0m\u001b[0;34m.\u001b[0m\u001b[0mDataFrame\u001b[0m\u001b[0;34m(\u001b[0m\u001b[0mdf\u001b[0m\u001b[0;34m(\u001b[0m\u001b[0;36m0\u001b[0m\u001b[0;34m)\u001b[0m\u001b[0;34m)\u001b[0m\u001b[0;34m\u001b[0m\u001b[0;34m\u001b[0m\u001b[0m\n\u001b[0m\u001b[1;32m      6\u001b[0m \u001b[0mprint\u001b[0m\u001b[0;34m(\u001b[0m\u001b[0mdf1\u001b[0m\u001b[0;34m.\u001b[0m\u001b[0mhead\u001b[0m\u001b[0;34m(\u001b[0m\u001b[0;36m5\u001b[0m\u001b[0;34m)\u001b[0m\u001b[0;34m)\u001b[0m\u001b[0;34m\u001b[0m\u001b[0;34m\u001b[0m\u001b[0m\n",
            "\u001b[0;31mTypeError\u001b[0m: 'DataFrame' object is not callable"
          ]
        }
      ]
    },
    {
      "cell_type": "code",
      "source": [
        "#13. Create a 3D scatter plot using Plotly\n",
        "import plotly.express as px\n",
        "import pandas as pd\n",
        "\n",
        "df = pd.DataFrame({\n",
        "    'x': [10, 20, 30, 40, 50],\n",
        "    'y': [15, 25, 35, 45, 55],\n",
        "    'z': [5, 10, 15, 20, 25],\n",
        "    'label': ['A', 'B', 'C', 'D', 'E']\n",
        "})\n",
        "\n",
        "fig = px.scatter_3d(df, x='x', y='y', z='z', color='label', title='3D Scatter Plot Example')\n",
        "fig.show()"
      ],
      "metadata": {
        "id": "iNf6t_6u-_7S"
      },
      "execution_count": null,
      "outputs": []
    }
  ]
}